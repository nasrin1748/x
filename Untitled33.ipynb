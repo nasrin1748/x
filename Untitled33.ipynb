{
 "cells": [
  {
   "cell_type": "code",
   "execution_count": 2,
   "id": "7b7d8776-3409-4033-ab07-dd7a199b26ad",
   "metadata": {},
   "outputs": [
    {
     "data": {
      "application/vnd.jupyter.widget-view+json": {
       "model_id": "7716edad7b22446cad3c9bd58af4898b",
       "version_major": 2,
       "version_minor": 0
      },
      "text/plain": [
       "Tab(children=(HTML(value='hello\\n<html>\\n<h1>hello world</h1>\\n<img src=\"https://sheinsz.ltwebstatic.com/she_d…"
      ]
     },
     "metadata": {},
     "output_type": "display_data"
    }
   ],
   "source": [
    "import ipywidgets as widgets\n",
    "tab = widgets.Tab()\n",
    "def fun():\n",
    "    return  \"hello\"\n",
    "html = \"\"\"\n",
    "<html>\n",
    "<h1>hello world</h1>\n",
    "<img src=\"https://sheinsz.ltwebstatic.com/she_dist/images/touch-icon-ipad-120-601ddff8b5.png\" alt=\"Italian Trulli\"> \n",
    "<h1>next line</h1>\n",
    "<h1>hello</h1>\n",
    "</html>\"\"\"\n",
    "tab.children = [widgets.HTML(fun()+html+fun()), widgets.HTML('<iframe src=\"https://pyscript.com/dashboard\" height=\"300px\" width=\"100%\" title=\"Iframe Example\"></iframe>')]\n",
    "tab.titles = ['tab1','tab2']\n",
    "display(tab)"
   ]
  }
 ],
 "metadata": {
  "kernelspec": {
   "display_name": "Python 3 (ipykernel)",
   "language": "python",
   "name": "python3"
  },
  "language_info": {
   "codemirror_mode": {
    "name": "ipython",
    "version": 3
   },
   "file_extension": ".py",
   "mimetype": "text/x-python",
   "name": "python",
   "nbconvert_exporter": "python",
   "pygments_lexer": "ipython3",
   "version": "3.12.0"
  }
 },
 "nbformat": 4,
 "nbformat_minor": 5
}
